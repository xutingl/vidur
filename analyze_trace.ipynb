{
 "cells": [
  {
   "cell_type": "code",
   "execution_count": 3,
   "metadata": {},
   "outputs": [],
   "source": [
    "from pathlib import Path\n",
    "import pandas as pd"
   ]
  },
  {
   "cell_type": "code",
   "execution_count": 8,
   "metadata": {},
   "outputs": [],
   "source": [
    "INPUT_DIR = Path(\"./simulator_output/\")"
   ]
  },
  {
   "cell_type": "code",
   "execution_count": 9,
   "metadata": {},
   "outputs": [],
   "source": [
    "def analyze_trace(trace_name: str):\n",
    "    trace_dir = INPUT_DIR / trace_name / \"plots/\"\n",
    "    e2e_df = pd.read_csv(trace_dir / \"request_e2e_time.csv\")\n",
    "    exec_df = pd.read_csv(trace_dir / \"request_execution_time.csv\")\n",
    "\n",
    "    e2e_time = e2e_df[\"request_e2e_time\"]\n",
    "    exec_time = exec_df[\"request_execution_time\"]\n",
    "\n",
    "    return {\n",
    "        \"e2e_mean\": e2e_time.mean(),\n",
    "        \"e2e_95th\": e2e_time.quantile(0.95),\n",
    "        \"e2e_99th\": e2e_time.quantile(0.99),\n",
    "        \"exec_mean\": exec_time.mean(),\n",
    "        \"exec_95th\": exec_time.quantile(0.95),\n",
    "        \"exec_99th\": exec_time.quantile(0.99),\n",
    "    }"
   ]
  },
  {
   "cell_type": "code",
   "execution_count": 15,
   "metadata": {},
   "outputs": [],
   "source": [
    "def compute_gap(oroginal, ee, skip_chance: float=0.5):\n",
    "    gaps = {}\n",
    "    for key, value in oroginal.items():\n",
    "        expected_value = value * (1 - skip_chance)\n",
    "        gaps[key] = (ee[key] - expected_value) / expected_value\n",
    "    return gaps"
   ]
  },
  {
   "cell_type": "code",
   "execution_count": 13,
   "metadata": {},
   "outputs": [
    {
     "data": {
      "text/plain": [
       "{'e2e_mean': 13.458338622360507,\n",
       " 'e2e_95th': 19.7654895299643,\n",
       " 'e2e_99th': 49.37858309507928,\n",
       " 'exec_mean': 6.697884098007889,\n",
       " 'exec_95th': 12.002731246964663,\n",
       " 'exec_99th': 40.85812837385176}"
      ]
     },
     "execution_count": 13,
     "metadata": {},
     "output_type": "execute_result"
    }
   ],
   "source": [
    "analyze_trace(\"default_pp8\")"
   ]
  },
  {
   "cell_type": "code",
   "execution_count": 14,
   "metadata": {},
   "outputs": [
    {
     "data": {
      "text/plain": [
       "{'e2e_mean': 8.133253781163114,\n",
       " 'e2e_95th': 11.468507205521176,\n",
       " 'e2e_99th': 26.91921984489734,\n",
       " 'exec_mean': 3.4159352601417297,\n",
       " 'exec_95th': 6.100461804193232,\n",
       " 'exec_99th': 20.923488588559593}"
      ]
     },
     "execution_count": 14,
     "metadata": {},
     "output_type": "execute_result"
    }
   ],
   "source": [
    "analyze_trace(\"skip05_pp8\")"
   ]
  },
  {
   "cell_type": "code",
   "execution_count": 16,
   "metadata": {},
   "outputs": [
    {
     "data": {
      "text/plain": [
       "{'e2e_mean': 0.20865643366262593,\n",
       " 'e2e_95th': 0.16045769452206335,\n",
       " 'e2e_99th': 0.09031965510488377,\n",
       " 'exec_mean': 0.02000429095442559,\n",
       " 'exec_95th': 0.016512271860783505,\n",
       " 'exec_99th': 0.024202009309370692}"
      ]
     },
     "execution_count": 16,
     "metadata": {},
     "output_type": "execute_result"
    }
   ],
   "source": [
    "compute_gap(analyze_trace(\"default_pp8\"), analyze_trace(\"skip05_pp8\"), 0.5)"
   ]
  },
  {
   "cell_type": "code",
   "execution_count": 19,
   "metadata": {},
   "outputs": [
    {
     "data": {
      "text/plain": [
       "{'e2e_mean': 52.53289166855939,\n",
       " 'e2e_95th': 70.27108311864566,\n",
       " 'e2e_99th': 104.51960463292592,\n",
       " 'exec_mean': 7.784480449176155,\n",
       " 'exec_95th': 16.854153391304955,\n",
       " 'exec_99th': 45.53693313027235}"
      ]
     },
     "execution_count": 19,
     "metadata": {},
     "output_type": "execute_result"
    }
   ],
   "source": [
    "analyze_trace(\"default_pp8_req512\")"
   ]
  },
  {
   "cell_type": "code",
   "execution_count": 20,
   "metadata": {},
   "outputs": [
    {
     "data": {
      "text/plain": [
       "{'e2e_mean': 33.53276859967207,\n",
       " 'e2e_95th': 44.79245295185528,\n",
       " 'e2e_99th': 64.64825273565808,\n",
       " 'exec_mean': 3.973070769677921,\n",
       " 'exec_95th': 8.595637107276087,\n",
       " 'exec_99th': 23.07560142307798}"
      ]
     },
     "execution_count": 20,
     "metadata": {},
     "output_type": "execute_result"
    }
   ],
   "source": [
    "analyze_trace(\"skip05_pp8_req512\")"
   ]
  },
  {
   "cell_type": "code",
   "execution_count": 21,
   "metadata": {},
   "outputs": [
    {
     "data": {
      "text/plain": [
       "{'e2e_mean': 0.27663897929842013,\n",
       " 'e2e_95th': 0.27484737573285234,\n",
       " 'e2e_99th': 0.237055057043193,\n",
       " 'exec_mean': 0.02076710080205742,\n",
       " 'exec_95th': 0.020002240125638043,\n",
       " 'exec_99th': 0.01348948367089856}"
      ]
     },
     "execution_count": 21,
     "metadata": {},
     "output_type": "execute_result"
    }
   ],
   "source": [
    "compute_gap(analyze_trace(\"default_pp8_req512\"), analyze_trace(\"skip05_pp8_req512\"), 0.5)"
   ]
  },
  {
   "cell_type": "code",
   "execution_count": 23,
   "metadata": {},
   "outputs": [
    {
     "data": {
      "text/plain": [
       "{'e2e_mean': 200.94381609418116,\n",
       " 'e2e_95th': 353.7467022935011,\n",
       " 'e2e_99th': 392.68817985107125,\n",
       " 'exec_mean': 8.994020101269289,\n",
       " 'exec_95th': 23.60333914825616,\n",
       " 'exec_99th': 74.4621672938249}"
      ]
     },
     "execution_count": 23,
     "metadata": {},
     "output_type": "execute_result"
    }
   ],
   "source": [
    "analyze_trace(\"default_pp8_req2048\")"
   ]
  },
  {
   "cell_type": "code",
   "execution_count": 22,
   "metadata": {},
   "outputs": [
    {
     "data": {
      "text/plain": [
       "{'e2e_mean': 127.15712174628942,\n",
       " 'e2e_95th': 223.57221548540505,\n",
       " 'e2e_99th': 246.93078600804006,\n",
       " 'exec_mean': 4.584240629218023,\n",
       " 'exec_95th': 12.00540182933007,\n",
       " 'exec_99th': 37.736075986773635}"
      ]
     },
     "execution_count": 22,
     "metadata": {},
     "output_type": "execute_result"
    }
   ],
   "source": [
    "analyze_trace(\"skip05_pp8_req2048\")"
   ]
  },
  {
   "cell_type": "code",
   "execution_count": 24,
   "metadata": {},
   "outputs": [
    {
     "data": {
      "text/plain": [
       "{'e2e_mean': 0.2655987550937287,\n",
       " 'e2e_95th': 0.2640243091222307,\n",
       " 'e2e_99th': 0.2576430800727929,\n",
       " 'exec_mean': 0.019397461335686355,\n",
       " 'exec_95th': 0.017263002825347425,\n",
       " 'exec_99th': 0.013563729292715902}"
      ]
     },
     "execution_count": 24,
     "metadata": {},
     "output_type": "execute_result"
    }
   ],
   "source": [
    "compute_gap(analyze_trace(\"default_pp8_req2048\"), analyze_trace(\"skip05_pp8_req2048\"), 0.5)"
   ]
  },
  {
   "cell_type": "markdown",
   "metadata": {},
   "source": []
  },
  {
   "cell_type": "code",
   "execution_count": 25,
   "metadata": {},
   "outputs": [
    {
     "data": {
      "text/plain": [
       "{'e2e_mean': 183.0694507504247,\n",
       " 'e2e_95th': 309.81012928836924,\n",
       " 'e2e_99th': 343.59949387071475,\n",
       " 'exec_mean': 9.640922093188024,\n",
       " 'exec_95th': 25.727964130642388,\n",
       " 'exec_99th': 76.77802385668008}"
      ]
     },
     "execution_count": 25,
     "metadata": {},
     "output_type": "execute_result"
    }
   ],
   "source": [
    "analyze_trace(\"default_pp2_req2048\")"
   ]
  },
  {
   "cell_type": "code",
   "execution_count": 26,
   "metadata": {},
   "outputs": [
    {
     "data": {
      "text/plain": [
       "{'e2e_mean': 147.81300634573964,\n",
       " 'e2e_95th': 249.0666962085862,\n",
       " 'e2e_99th': 274.4200162194365,\n",
       " 'exec_mean': 6.101340865482934,\n",
       " 'exec_95th': 16.024486928041256,\n",
       " 'exec_99th': 50.01060544510378}"
      ]
     },
     "execution_count": 26,
     "metadata": {},
     "output_type": "execute_result"
    }
   ],
   "source": [
    "analyze_trace(\"skip05_pp2_req2048\")"
   ]
  },
  {
   "cell_type": "code",
   "execution_count": 27,
   "metadata": {},
   "outputs": [
    {
     "data": {
      "text/plain": [
       "{'e2e_mean': 0.6148298445189576,\n",
       " 'e2e_95th': 0.607866707138917,\n",
       " 'e2e_99th': 0.5973249152846061,\n",
       " 'exec_mean': 0.265717284406634,\n",
       " 'exec_95th': 0.24568635486830875,\n",
       " 'exec_99th': 0.3027322906475822}"
      ]
     },
     "execution_count": 27,
     "metadata": {},
     "output_type": "execute_result"
    }
   ],
   "source": [
    "compute_gap(analyze_trace(\"default_pp2_req2048\"), analyze_trace(\"skip05_pp2_req2048\"), 0.5)"
   ]
  },
  {
   "cell_type": "markdown",
   "metadata": {},
   "source": [
    "## Compare default, skip(MoD), and EE\n",
    "pp=8, req=2048"
   ]
  },
  {
   "cell_type": "code",
   "execution_count": 28,
   "metadata": {},
   "outputs": [
    {
     "data": {
      "text/plain": [
       "{'e2e_mean': 200.94381609418116,\n",
       " 'e2e_95th': 353.7467022935011,\n",
       " 'e2e_99th': 392.68817985107125,\n",
       " 'exec_mean': 8.994020101269289,\n",
       " 'exec_95th': 23.60333914825616,\n",
       " 'exec_99th': 74.4621672938249}"
      ]
     },
     "execution_count": 28,
     "metadata": {},
     "output_type": "execute_result"
    }
   ],
   "source": [
    "analyze_trace(\"default_pp8_req2048\")"
   ]
  },
  {
   "cell_type": "code",
   "execution_count": 29,
   "metadata": {},
   "outputs": [
    {
     "data": {
      "text/plain": [
       "{'e2e_mean': 127.15712174628942,\n",
       " 'e2e_95th': 223.57221548540505,\n",
       " 'e2e_99th': 246.93078600804006,\n",
       " 'exec_mean': 4.584240629218023,\n",
       " 'exec_95th': 12.00540182933007,\n",
       " 'exec_99th': 37.736075986773635}"
      ]
     },
     "execution_count": 29,
     "metadata": {},
     "output_type": "execute_result"
    }
   ],
   "source": [
    "analyze_trace(\"skip05_pp8_req2048\")"
   ]
  },
  {
   "cell_type": "code",
   "execution_count": 30,
   "metadata": {},
   "outputs": [
    {
     "data": {
      "text/plain": [
       "{'e2e_mean': 92.8037213325641,\n",
       " 'e2e_95th': 174.9012939111137,\n",
       " 'e2e_99th': 183.85679699034677,\n",
       " 'exec_mean': 1.8956867184235227,\n",
       " 'exec_95th': 4.803477061517861,\n",
       " 'exec_99th': 16.630338958136182}"
      ]
     },
     "execution_count": 30,
     "metadata": {},
     "output_type": "execute_result"
    }
   ],
   "source": [
    "analyze_trace(\"ee05_pp8_req2048\")"
   ]
  },
  {
   "cell_type": "code",
   "execution_count": 31,
   "metadata": {},
   "outputs": [],
   "source": [
    "def get_e2e_over_exec(trace: str):\n",
    "    trace_stat = analyze_trace(trace)\n",
    "    return {\n",
    "        'mean': trace_stat['e2e_mean'] / trace_stat['exec_mean'],\n",
    "        '95th': trace_stat['e2e_95th'] / trace_stat['exec_95th'],\n",
    "        '99th': trace_stat['e2e_99th'] / trace_stat['exec_99th'],\n",
    "    }"
   ]
  },
  {
   "cell_type": "code",
   "execution_count": 32,
   "metadata": {},
   "outputs": [
    {
     "data": {
      "text/plain": [
       "{'mean': 22.341935400591645,\n",
       " '95th': 14.987146524971076,\n",
       " '99th': 5.273660358307038}"
      ]
     },
     "execution_count": 32,
     "metadata": {},
     "output_type": "execute_result"
    }
   ],
   "source": [
    "get_e2e_over_exec(\"default_pp8_req2048\")"
   ]
  },
  {
   "cell_type": "code",
   "execution_count": 34,
   "metadata": {},
   "outputs": [
    {
     "data": {
      "text/plain": [
       "{'mean': 27.737881152189825,\n",
       " '95th': 18.622634932485298,\n",
       " '99th': 6.543626478136955}"
      ]
     },
     "execution_count": 34,
     "metadata": {},
     "output_type": "execute_result"
    }
   ],
   "source": [
    "get_e2e_over_exec(\"skip05_pp8_req2048\")"
   ]
  },
  {
   "cell_type": "code",
   "execution_count": 36,
   "metadata": {},
   "outputs": [
    {
     "data": {
      "text/plain": [
       "{'mean': 48.95519941699062,\n",
       " '95th': 36.41139359492356,\n",
       " '99th': 11.055505089413536}"
      ]
     },
     "execution_count": 36,
     "metadata": {},
     "output_type": "execute_result"
    }
   ],
   "source": [
    "get_e2e_over_exec(\"ee05_pp8_req2048\")"
   ]
  },
  {
   "cell_type": "code",
   "execution_count": null,
   "metadata": {},
   "outputs": [],
   "source": []
  }
 ],
 "metadata": {
  "kernelspec": {
   "display_name": "vidur_env",
   "language": "python",
   "name": "python3"
  },
  "language_info": {
   "codemirror_mode": {
    "name": "ipython",
    "version": 3
   },
   "file_extension": ".py",
   "mimetype": "text/x-python",
   "name": "python",
   "nbconvert_exporter": "python",
   "pygments_lexer": "ipython3",
   "version": "3.10.15"
  }
 },
 "nbformat": 4,
 "nbformat_minor": 2
}
