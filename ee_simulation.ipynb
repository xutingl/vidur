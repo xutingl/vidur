{
 "cells": [
  {
   "cell_type": "code",
   "execution_count": 27,
   "metadata": {},
   "outputs": [],
   "source": [
    "import subprocess\n",
    "from pathlib import Path\n",
    "import pandas as pd\n",
    "import json\n",
    "RESULT_DIR = Path(\"./simulator_output/\")\n"
   ]
  },
  {
   "cell_type": "markdown",
   "metadata": {},
   "source": [
    "## Run simulator\n",
    "python -m vidur.main  \\\n",
    "--replica_config_device a100 \\\n",
    "--replica_config_model_name meta-llama/Llama-2-7b-hf  \\\n",
    "--cluster_config_num_replicas 1 \\\n",
    "--replica_config_tensor_parallel_size 1 \\\n",
    "--replica_config_num_pipeline_stages 8 \\\n",
    "--request_generator_config_type synthetic \\\n",
    "--length_generator_config_type trace \\\n",
    "--interval_generator_config_type static \\\n",
    "--trace_request_length_generator_config_max_tokens 4096 \\\n",
    "--trace_request_length_generator_config_trace_file ./data/processed_traces/arxiv_summarization_stats_llama2_tokenizer_filtered_v2.csv \\\n",
    "--synthetic_request_generator_config_num_requests 2048  \\\n",
    "--replica_scheduler_config_type vllm  \\\n",
    "--vllm_scheduler_config_batch_size_cap 256  \\\n",
    "--vllm_scheduler_config_max_tokens_in_batch 4096 \\\n",
    "--early_exit_type 1 \\\n",
    "--metrics_config_output_data_folder ee05"
   ]
  },
  {
   "cell_type": "code",
   "execution_count": 10,
   "metadata": {},
   "outputs": [],
   "source": [
    "def run_vidur(config: dict):\n",
    "    replica_config_device = config.get(\"replica_config_device\", \"a100\")\n",
    "    replica_config_model_name = config.get(\"replica_config_model_name\", \"meta-llama/Llama-2-7b-hf\")\n",
    "    cluster_config_num_replicas = config.get(\"cluster_config_num_replicas\", 1)\n",
    "    replica_config_tensor_parallel_size = config.get(\"replica_config_tensor_parallel_size\", 1)\n",
    "    replica_config_num_pipeline_stages = config.get(\"replica_config_num_pipeline_stages\", 8)\n",
    "    request_generator_config_type = config.get(\"request_generator_config_type\", \"synthetic\")\n",
    "    length_generator_config_type = config.get(\"length_generator_config_type\", \"trace\")\n",
    "    interval_generator_config_type = config.get(\"interval_generator_config_type\", \"static\")\n",
    "    trace_request_length_generator_config_max_tokens = config.get(\"trace_request_length_generator_config_max_tokens\", 4096)\n",
    "    trace_request_length_generator_config_trace_file = config.get(\"trace_request_length_generator_config_trace_file\", \"./data/processed_traces/arxiv_summarization_stats_llama2_tokenizer_filtered_v2.csv\")\n",
    "    synthetic_request_generator_config_num_requests = config.get(\"synthetic_request_generator_config_num_requests\", 2048)\n",
    "    replica_scheduler_config_type = config.get(\"replica_scheduler_config_type\", \"vllm\")\n",
    "    vllm_scheduler_config_batch_size_cap = config.get(\"vllm_scheduler_config_batch_size_cap\", 256)\n",
    "    vllm_scheduler_config_max_tokens_in_batch = config.get(\"vllm_scheduler_config_max_tokens_in_batch\", 4096)\n",
    "    early_exit_type = config.get(\"early_exit_type\", 1)\n",
    "    metrics_config_output_data_folder = config.get(\"name\", \"ee05\")\n",
    "    enable_priority_queue = config.get(\"enable_priority_queue\", False)\n",
    "    subprocess.run([\"python\", \"-m\", \"vidur.main\",\n",
    "                    f\"--replica_config_device={replica_config_device}\",\n",
    "                    f\"--replica_config_model_name={replica_config_model_name}\",\n",
    "                    f\"--cluster_config_num_replicas={cluster_config_num_replicas}\",\n",
    "                    f\"--replica_config_tensor_parallel_size={replica_config_tensor_parallel_size}\",\n",
    "                    f\"--replica_config_num_pipeline_stages={replica_config_num_pipeline_stages}\",\n",
    "                    f\"--request_generator_config_type={request_generator_config_type}\",\n",
    "                    f\"--length_generator_config_type={length_generator_config_type}\",\n",
    "                    f\"--interval_generator_config_type={interval_generator_config_type}\",\n",
    "                    f\"--trace_request_length_generator_config_max_tokens={trace_request_length_generator_config_max_tokens}\",\n",
    "                    f\"--trace_request_length_generator_config_trace_file={trace_request_length_generator_config_trace_file}\",\n",
    "                    f\"--synthetic_request_generator_config_num_requests={synthetic_request_generator_config_num_requests}\",\n",
    "                    f\"--replica_scheduler_config_type={replica_scheduler_config_type}\",\n",
    "                    f\"--vllm_scheduler_config_batch_size_cap={vllm_scheduler_config_batch_size_cap}\",\n",
    "                    f\"--vllm_scheduler_config_max_tokens_in_batch={vllm_scheduler_config_max_tokens_in_batch}\",\n",
    "                    f\"--early_exit_type={early_exit_type}\",\n",
    "                    f\"--metrics_config_output_data_folder={metrics_config_output_data_folder}\",\n",
    "                    \"--vllm_scheduler_config_enable_priority_queue\" if enable_priority_queue else \"--no-vllm_scheduler_config_enable_priority_queue\",\n",
    "                    ])"
   ]
  },
  {
   "cell_type": "code",
   "execution_count": 4,
   "metadata": {},
   "outputs": [],
   "source": [
    "def analyze_trace(trace_name: str):\n",
    "    trace_dir = RESULT_DIR / trace_name / \"plots/\"\n",
    "    e2e_df = pd.read_csv(trace_dir / \"request_e2e_time.csv\")\n",
    "    exec_df = pd.read_csv(trace_dir / \"request_execution_time.csv\")\n",
    "\n",
    "    e2e_time = e2e_df[\"request_e2e_time\"]\n",
    "    exec_time = exec_df[\"request_execution_time\"]\n",
    "\n",
    "    return {\n",
    "        \"e2e_mean\": e2e_time.mean(),\n",
    "        \"e2e_95th\": e2e_time.quantile(0.95),\n",
    "        \"e2e_99th\": e2e_time.quantile(0.99),\n",
    "        \"exec_mean\": exec_time.mean(),\n",
    "        \"exec_95th\": exec_time.quantile(0.95),\n",
    "        \"exec_99th\": exec_time.quantile(0.99),\n",
    "    }\n",
    "def compute_gap(oroginal, ee, skip_chance: float=0.5):\n",
    "    gaps = {}\n",
    "    for key, value in oroginal.items():\n",
    "        expected_value = value * (1 - skip_chance)\n",
    "        gaps[key] = (ee[key] - expected_value) / expected_value\n",
    "    return gaps\n",
    "def get_e2e_over_exec(trace: str):\n",
    "    trace_stat = analyze_trace(trace)\n",
    "    return {\n",
    "        'mean': trace_stat['e2e_mean'] / trace_stat['exec_mean'],\n",
    "        '95th': trace_stat['e2e_95th'] / trace_stat['exec_95th'],\n",
    "        '99th': trace_stat['e2e_99th'] / trace_stat['exec_99th'],\n",
    "    }\n",
    "def get_queue_length(trace: str):\n",
    "    queue_length_file = RESULT_DIR / trace / \"plots/queue_length.json\"\n",
    "    with open(queue_length_file, \"r\") as f:\n",
    "        queue_length = json.load(f)\n",
    "    return queue_length"
   ]
  },
  {
   "cell_type": "code",
   "execution_count": 30,
   "metadata": {},
   "outputs": [
    {
     "name": "stdout",
     "output_type": "stream",
     "text": [
      "INFO 11-11 15:24:15 trace_request_length_generator.py:78] Loaded request length trace file ./data/processed_traces/arxiv_summarization_stats_llama2_tokenizer_filtered_v2.csv with 28257 requests\n",
      "----------\n",
      "Execution Time Predictor initialized with Early-Exit type=EarlyExitType.EE\n",
      "----------\n",
      "INFO 11-11 15:24:17 simulator.py:62] Starting simulation with cluster: Cluster({'id': 0, 'num_replicas': 1}) and 2048 requests\n",
      "Time to tokens file created: simulator_output/test/time_to_tokens.csv\n"
     ]
    },
    {
     "name": "stderr",
     "output_type": "stream",
     "text": [
      "/Users/xutingl/upenn/projects/vidur/vidur/utils/mfu_calculator.py:45: RuntimeWarning: divide by zero encountered in scalar divide\n",
      "  total_flops_per_second = total_flops / batch_stage.execution_time\n",
      "/Users/xutingl/upenn/projects/vidur/vidur/metrics/series_average_meter.py:44: RuntimeWarning: invalid value encountered in scalar multiply\n",
      "  self._numer_sum += self._last_data_y * x_diff\n"
     ]
    },
    {
     "name": "stdout",
     "output_type": "stream",
     "text": [
      "-----Queue length-----\n",
      "{0: 1.2097030953885028, 1: 0.37253316487681615, 2: 0.36525584333543903, 3: 0.37379658875552746, 4: 0.4013139608338598, 5: 0.42142766898294376, 6: 0.4587492103600758, 7: 0.31681617182564753}\n",
      "INFO 11-11 15:24:43 simulator.py:97] Simulation ended at: 296.24695084102177s\n",
      "INFO 11-11 15:24:43 simulator.py:100] Writing output\n"
     ]
    },
    {
     "name": "stderr",
     "output_type": "stream",
     "text": [
      "Error importing optional module IPython.core.display\n",
      "Traceback (most recent call last):\n",
      "  File \"/Users/xutingl/anaconda3/envs/vidur_env/lib/python3.10/site-packages/_plotly_utils/optional_imports.py\", line 28, in get_module\n",
      "    return import_module(name)\n",
      "  File \"/Users/xutingl/anaconda3/envs/vidur_env/lib/python3.10/importlib/__init__.py\", line 126, in import_module\n",
      "    return _bootstrap._gcd_import(name[level:], package, level)\n",
      "  File \"<frozen importlib._bootstrap>\", line 1050, in _gcd_import\n",
      "  File \"<frozen importlib._bootstrap>\", line 1027, in _find_and_load\n",
      "  File \"<frozen importlib._bootstrap>\", line 992, in _find_and_load_unlocked\n",
      "  File \"<frozen importlib._bootstrap>\", line 241, in _call_with_frames_removed\n",
      "  File \"<frozen importlib._bootstrap>\", line 1050, in _gcd_import\n",
      "  File \"<frozen importlib._bootstrap>\", line 1027, in _find_and_load\n",
      "  File \"<frozen importlib._bootstrap>\", line 992, in _find_and_load_unlocked\n",
      "  File \"<frozen importlib._bootstrap>\", line 241, in _call_with_frames_removed\n",
      "  File \"<frozen importlib._bootstrap>\", line 1050, in _gcd_import\n",
      "  File \"<frozen importlib._bootstrap>\", line 1027, in _find_and_load\n",
      "  File \"<frozen importlib._bootstrap>\", line 1006, in _find_and_load_unlocked\n",
      "  File \"<frozen importlib._bootstrap>\", line 688, in _load_unlocked\n",
      "  File \"<frozen importlib._bootstrap_external>\", line 883, in exec_module\n",
      "  File \"<frozen importlib._bootstrap>\", line 241, in _call_with_frames_removed\n",
      "  File \"/Users/xutingl/anaconda3/envs/vidur_env/lib/python3.10/site-packages/IPython/__init__.py\", line 55, in <module>\n",
      "    from .terminal.embed import embed\n",
      "  File \"/Users/xutingl/anaconda3/envs/vidur_env/lib/python3.10/site-packages/IPython/terminal/embed.py\", line 16, in <module>\n",
      "    from IPython.terminal.interactiveshell import TerminalInteractiveShell\n",
      "  File \"/Users/xutingl/anaconda3/envs/vidur_env/lib/python3.10/site-packages/IPython/terminal/interactiveshell.py\", line 48, in <module>\n",
      "    from .debugger import TerminalPdb, Pdb\n",
      "  File \"/Users/xutingl/anaconda3/envs/vidur_env/lib/python3.10/site-packages/IPython/terminal/debugger.py\", line 18, in <module>\n",
      "    from concurrent.futures import ThreadPoolExecutor\n",
      "  File \"<frozen importlib._bootstrap>\", line 1075, in _handle_fromlist\n",
      "  File \"/Users/xutingl/anaconda3/envs/vidur_env/lib/python3.10/concurrent/futures/__init__.py\", line 49, in __getattr__\n",
      "    from .thread import ThreadPoolExecutor as te\n",
      "  File \"/Users/xutingl/anaconda3/envs/vidur_env/lib/python3.10/concurrent/futures/thread.py\", line 37, in <module>\n",
      "    threading._register_atexit(_python_exit)\n",
      "  File \"/Users/xutingl/anaconda3/envs/vidur_env/lib/python3.10/threading.py\", line 1504, in _register_atexit\n",
      "    raise RuntimeError(\"can't register atexit after shutdown\")\n",
      "RuntimeError: can't register atexit after shutdown\n"
     ]
    },
    {
     "name": "stdout",
     "output_type": "stream",
     "text": [
      "INFO 11-11 15:24:55 simulator.py:103] Metrics written\n",
      "INFO 11-11 15:25:00 simulator.py:111] Chrome event trace written\n"
     ]
    }
   ],
   "source": [
    "run_vidur({\n",
    "        \"name\": \"test\",\n",
    "        \"enable_priority_queue\": True\n",
    "    })"
   ]
  },
  {
   "cell_type": "markdown",
   "metadata": {},
   "source": [
    "## Batch Size experiments"
   ]
  },
  {
   "cell_type": "code",
   "execution_count": 21,
   "metadata": {},
   "outputs": [
    {
     "name": "stdout",
     "output_type": "stream",
     "text": [
      "INFO 10-23 11:50:13 trace_request_length_generator.py:78] Loaded request length trace file ./data/processed_traces/arxiv_summarization_stats_llama2_tokenizer_filtered_v2.csv with 28257 requests\n",
      "----------\n",
      "Execution Time Predictor initialized with Early-Exit type=EarlyExitType.EE\n",
      "----------\n",
      "INFO 10-23 11:50:14 simulator.py:61] Starting simulation with cluster: Cluster({'id': 0, 'num_replicas': 1}) and 2048 requests\n"
     ]
    },
    {
     "name": "stderr",
     "output_type": "stream",
     "text": [
      "/Users/xutingl/upenn/projects/vidur/vidur/utils/mfu_calculator.py:45: RuntimeWarning: divide by zero encountered in scalar divide\n",
      "  total_flops_per_second = total_flops / batch_stage.execution_time\n",
      "/Users/xutingl/upenn/projects/vidur/vidur/metrics/series_average_meter.py:44: RuntimeWarning: invalid value encountered in scalar multiply\n",
      "  self._numer_sum += self._last_data_y * x_diff\n"
     ]
    },
    {
     "name": "stdout",
     "output_type": "stream",
     "text": [
      "-----Queue length-----\n",
      "{0: 1.32434209780378, 1: 0.4435298252775038, 2: 0.4034604351621937, 3: 0.40178237355012075, 4: 0.40258738959375034, 5: 0.40317697880880304, 6: 0.4116466546481173, 7: 0.3213941517285168}\n",
      "INFO 10-23 11:50:45 simulator.py:88] Simulation ended at: 479.9737835667563s\n",
      "INFO 10-23 11:50:45 simulator.py:91] Writing output\n"
     ]
    },
    {
     "name": "stderr",
     "output_type": "stream",
     "text": [
      "Error importing optional module IPython.core.display\n",
      "Traceback (most recent call last):\n",
      "  File \"/Users/xutingl/anaconda3/envs/vidur_env/lib/python3.10/site-packages/_plotly_utils/optional_imports.py\", line 28, in get_module\n",
      "    return import_module(name)\n",
      "  File \"/Users/xutingl/anaconda3/envs/vidur_env/lib/python3.10/importlib/__init__.py\", line 126, in import_module\n",
      "    return _bootstrap._gcd_import(name[level:], package, level)\n",
      "  File \"<frozen importlib._bootstrap>\", line 1050, in _gcd_import\n",
      "  File \"<frozen importlib._bootstrap>\", line 1027, in _find_and_load\n",
      "  File \"<frozen importlib._bootstrap>\", line 992, in _find_and_load_unlocked\n",
      "  File \"<frozen importlib._bootstrap>\", line 241, in _call_with_frames_removed\n",
      "  File \"<frozen importlib._bootstrap>\", line 1050, in _gcd_import\n",
      "  File \"<frozen importlib._bootstrap>\", line 1027, in _find_and_load\n",
      "  File \"<frozen importlib._bootstrap>\", line 992, in _find_and_load_unlocked\n",
      "  File \"<frozen importlib._bootstrap>\", line 241, in _call_with_frames_removed\n",
      "  File \"<frozen importlib._bootstrap>\", line 1050, in _gcd_import\n",
      "  File \"<frozen importlib._bootstrap>\", line 1027, in _find_and_load\n",
      "  File \"<frozen importlib._bootstrap>\", line 1006, in _find_and_load_unlocked\n",
      "  File \"<frozen importlib._bootstrap>\", line 688, in _load_unlocked\n",
      "  File \"<frozen importlib._bootstrap_external>\", line 883, in exec_module\n",
      "  File \"<frozen importlib._bootstrap>\", line 241, in _call_with_frames_removed\n",
      "  File \"/Users/xutingl/anaconda3/envs/vidur_env/lib/python3.10/site-packages/IPython/__init__.py\", line 55, in <module>\n",
      "    from .terminal.embed import embed\n",
      "  File \"/Users/xutingl/anaconda3/envs/vidur_env/lib/python3.10/site-packages/IPython/terminal/embed.py\", line 16, in <module>\n",
      "    from IPython.terminal.interactiveshell import TerminalInteractiveShell\n",
      "  File \"/Users/xutingl/anaconda3/envs/vidur_env/lib/python3.10/site-packages/IPython/terminal/interactiveshell.py\", line 48, in <module>\n",
      "    from .debugger import TerminalPdb, Pdb\n",
      "  File \"/Users/xutingl/anaconda3/envs/vidur_env/lib/python3.10/site-packages/IPython/terminal/debugger.py\", line 18, in <module>\n",
      "    from concurrent.futures import ThreadPoolExecutor\n",
      "  File \"<frozen importlib._bootstrap>\", line 1075, in _handle_fromlist\n",
      "  File \"/Users/xutingl/anaconda3/envs/vidur_env/lib/python3.10/concurrent/futures/__init__.py\", line 49, in __getattr__\n",
      "    from .thread import ThreadPoolExecutor as te\n",
      "  File \"/Users/xutingl/anaconda3/envs/vidur_env/lib/python3.10/concurrent/futures/thread.py\", line 37, in <module>\n",
      "    threading._register_atexit(_python_exit)\n",
      "  File \"/Users/xutingl/anaconda3/envs/vidur_env/lib/python3.10/threading.py\", line 1504, in _register_atexit\n",
      "    raise RuntimeError(\"can't register atexit after shutdown\")\n",
      "RuntimeError: can't register atexit after shutdown\n"
     ]
    },
    {
     "name": "stdout",
     "output_type": "stream",
     "text": [
      "INFO 10-23 11:50:53 simulator.py:94] Metrics written\n",
      "INFO 10-23 11:51:02 simulator.py:102] Chrome event trace written\n",
      "INFO 10-23 11:51:04 trace_request_length_generator.py:78] Loaded request length trace file ./data/processed_traces/arxiv_summarization_stats_llama2_tokenizer_filtered_v2.csv with 28257 requests\n",
      "----------\n",
      "Execution Time Predictor initialized with Early-Exit type=EarlyExitType.EE\n",
      "----------\n",
      "INFO 10-23 11:51:05 simulator.py:61] Starting simulation with cluster: Cluster({'id': 0, 'num_replicas': 1}) and 2048 requests\n"
     ]
    },
    {
     "name": "stderr",
     "output_type": "stream",
     "text": [
      "/Users/xutingl/upenn/projects/vidur/vidur/utils/mfu_calculator.py:45: RuntimeWarning: divide by zero encountered in scalar divide\n",
      "  total_flops_per_second = total_flops / batch_stage.execution_time\n",
      "/Users/xutingl/upenn/projects/vidur/vidur/metrics/series_average_meter.py:44: RuntimeWarning: invalid value encountered in scalar multiply\n",
      "  self._numer_sum += self._last_data_y * x_diff\n"
     ]
    },
    {
     "name": "stdout",
     "output_type": "stream",
     "text": [
      "-----Queue length-----\n",
      "{0: 1.3596411907259378, 1: 0.477248887763591, 2: 0.447571165045032, 3: 0.4482584005497884, 4: 0.4642094983180815, 5: 0.48048612869389085, 6: 0.49486381885918906, 7: 0.3815965565884183}\n",
      "INFO 10-23 11:51:26 simulator.py:88] Simulation ended at: 378.28410941834477s\n",
      "INFO 10-23 11:51:26 simulator.py:91] Writing output\n"
     ]
    },
    {
     "name": "stderr",
     "output_type": "stream",
     "text": [
      "Error importing optional module IPython.core.display\n",
      "Traceback (most recent call last):\n",
      "  File \"/Users/xutingl/anaconda3/envs/vidur_env/lib/python3.10/site-packages/_plotly_utils/optional_imports.py\", line 28, in get_module\n",
      "    return import_module(name)\n",
      "  File \"/Users/xutingl/anaconda3/envs/vidur_env/lib/python3.10/importlib/__init__.py\", line 126, in import_module\n",
      "    return _bootstrap._gcd_import(name[level:], package, level)\n",
      "  File \"<frozen importlib._bootstrap>\", line 1050, in _gcd_import\n",
      "  File \"<frozen importlib._bootstrap>\", line 1027, in _find_and_load\n",
      "  File \"<frozen importlib._bootstrap>\", line 992, in _find_and_load_unlocked\n",
      "  File \"<frozen importlib._bootstrap>\", line 241, in _call_with_frames_removed\n",
      "  File \"<frozen importlib._bootstrap>\", line 1050, in _gcd_import\n",
      "  File \"<frozen importlib._bootstrap>\", line 1027, in _find_and_load\n",
      "  File \"<frozen importlib._bootstrap>\", line 992, in _find_and_load_unlocked\n",
      "  File \"<frozen importlib._bootstrap>\", line 241, in _call_with_frames_removed\n",
      "  File \"<frozen importlib._bootstrap>\", line 1050, in _gcd_import\n",
      "  File \"<frozen importlib._bootstrap>\", line 1027, in _find_and_load\n",
      "  File \"<frozen importlib._bootstrap>\", line 1006, in _find_and_load_unlocked\n",
      "  File \"<frozen importlib._bootstrap>\", line 688, in _load_unlocked\n",
      "  File \"<frozen importlib._bootstrap_external>\", line 883, in exec_module\n",
      "  File \"<frozen importlib._bootstrap>\", line 241, in _call_with_frames_removed\n",
      "  File \"/Users/xutingl/anaconda3/envs/vidur_env/lib/python3.10/site-packages/IPython/__init__.py\", line 55, in <module>\n",
      "    from .terminal.embed import embed\n",
      "  File \"/Users/xutingl/anaconda3/envs/vidur_env/lib/python3.10/site-packages/IPython/terminal/embed.py\", line 16, in <module>\n",
      "    from IPython.terminal.interactiveshell import TerminalInteractiveShell\n",
      "  File \"/Users/xutingl/anaconda3/envs/vidur_env/lib/python3.10/site-packages/IPython/terminal/interactiveshell.py\", line 48, in <module>\n",
      "    from .debugger import TerminalPdb, Pdb\n",
      "  File \"/Users/xutingl/anaconda3/envs/vidur_env/lib/python3.10/site-packages/IPython/terminal/debugger.py\", line 18, in <module>\n",
      "    from concurrent.futures import ThreadPoolExecutor\n",
      "  File \"<frozen importlib._bootstrap>\", line 1075, in _handle_fromlist\n",
      "  File \"/Users/xutingl/anaconda3/envs/vidur_env/lib/python3.10/concurrent/futures/__init__.py\", line 49, in __getattr__\n",
      "    from .thread import ThreadPoolExecutor as te\n",
      "  File \"/Users/xutingl/anaconda3/envs/vidur_env/lib/python3.10/concurrent/futures/thread.py\", line 37, in <module>\n",
      "    threading._register_atexit(_python_exit)\n",
      "  File \"/Users/xutingl/anaconda3/envs/vidur_env/lib/python3.10/threading.py\", line 1504, in _register_atexit\n",
      "    raise RuntimeError(\"can't register atexit after shutdown\")\n",
      "RuntimeError: can't register atexit after shutdown\n"
     ]
    },
    {
     "name": "stdout",
     "output_type": "stream",
     "text": [
      "INFO 10-23 11:51:34 simulator.py:94] Metrics written\n",
      "INFO 10-23 11:51:40 simulator.py:102] Chrome event trace written\n",
      "INFO 10-23 11:51:42 trace_request_length_generator.py:78] Loaded request length trace file ./data/processed_traces/arxiv_summarization_stats_llama2_tokenizer_filtered_v2.csv with 28257 requests\n",
      "----------\n",
      "Execution Time Predictor initialized with Early-Exit type=EarlyExitType.EE\n",
      "----------\n",
      "INFO 10-23 11:51:43 simulator.py:61] Starting simulation with cluster: Cluster({'id': 0, 'num_replicas': 1}) and 2048 requests\n"
     ]
    },
    {
     "name": "stderr",
     "output_type": "stream",
     "text": [
      "/Users/xutingl/upenn/projects/vidur/vidur/utils/mfu_calculator.py:45: RuntimeWarning: divide by zero encountered in scalar divide\n",
      "  total_flops_per_second = total_flops / batch_stage.execution_time\n",
      "/Users/xutingl/upenn/projects/vidur/vidur/metrics/series_average_meter.py:44: RuntimeWarning: invalid value encountered in scalar multiply\n",
      "  self._numer_sum += self._last_data_y * x_diff\n"
     ]
    },
    {
     "name": "stdout",
     "output_type": "stream",
     "text": [
      "-----Queue length-----\n",
      "{0: 1.2584892404569228, 1: 0.4026176784366787, 2: 0.38060419973458925, 3: 0.40017173635866876, 4: 0.42231531836278, 5: 0.4502094663162551, 6: 0.47599594077697693, 7: 0.32067861882334575}\n",
      "INFO 10-23 11:52:00 simulator.py:88] Simulation ended at: 299.6331056283327s\n",
      "INFO 10-23 11:52:00 simulator.py:91] Writing output\n"
     ]
    },
    {
     "name": "stderr",
     "output_type": "stream",
     "text": [
      "Error importing optional module IPython.core.display\n",
      "Traceback (most recent call last):\n",
      "  File \"/Users/xutingl/anaconda3/envs/vidur_env/lib/python3.10/site-packages/_plotly_utils/optional_imports.py\", line 28, in get_module\n",
      "    return import_module(name)\n",
      "  File \"/Users/xutingl/anaconda3/envs/vidur_env/lib/python3.10/importlib/__init__.py\", line 126, in import_module\n",
      "    return _bootstrap._gcd_import(name[level:], package, level)\n",
      "  File \"<frozen importlib._bootstrap>\", line 1050, in _gcd_import\n",
      "  File \"<frozen importlib._bootstrap>\", line 1027, in _find_and_load\n",
      "  File \"<frozen importlib._bootstrap>\", line 992, in _find_and_load_unlocked\n",
      "  File \"<frozen importlib._bootstrap>\", line 241, in _call_with_frames_removed\n",
      "  File \"<frozen importlib._bootstrap>\", line 1050, in _gcd_import\n",
      "  File \"<frozen importlib._bootstrap>\", line 1027, in _find_and_load\n",
      "  File \"<frozen importlib._bootstrap>\", line 992, in _find_and_load_unlocked\n",
      "  File \"<frozen importlib._bootstrap>\", line 241, in _call_with_frames_removed\n",
      "  File \"<frozen importlib._bootstrap>\", line 1050, in _gcd_import\n",
      "  File \"<frozen importlib._bootstrap>\", line 1027, in _find_and_load\n",
      "  File \"<frozen importlib._bootstrap>\", line 1006, in _find_and_load_unlocked\n",
      "  File \"<frozen importlib._bootstrap>\", line 688, in _load_unlocked\n",
      "  File \"<frozen importlib._bootstrap_external>\", line 883, in exec_module\n",
      "  File \"<frozen importlib._bootstrap>\", line 241, in _call_with_frames_removed\n",
      "  File \"/Users/xutingl/anaconda3/envs/vidur_env/lib/python3.10/site-packages/IPython/__init__.py\", line 55, in <module>\n",
      "    from .terminal.embed import embed\n",
      "  File \"/Users/xutingl/anaconda3/envs/vidur_env/lib/python3.10/site-packages/IPython/terminal/embed.py\", line 16, in <module>\n",
      "    from IPython.terminal.interactiveshell import TerminalInteractiveShell\n",
      "  File \"/Users/xutingl/anaconda3/envs/vidur_env/lib/python3.10/site-packages/IPython/terminal/interactiveshell.py\", line 48, in <module>\n",
      "    from .debugger import TerminalPdb, Pdb\n",
      "  File \"/Users/xutingl/anaconda3/envs/vidur_env/lib/python3.10/site-packages/IPython/terminal/debugger.py\", line 18, in <module>\n",
      "    from concurrent.futures import ThreadPoolExecutor\n",
      "  File \"<frozen importlib._bootstrap>\", line 1075, in _handle_fromlist\n",
      "  File \"/Users/xutingl/anaconda3/envs/vidur_env/lib/python3.10/concurrent/futures/__init__.py\", line 49, in __getattr__\n",
      "    from .thread import ThreadPoolExecutor as te\n",
      "  File \"/Users/xutingl/anaconda3/envs/vidur_env/lib/python3.10/concurrent/futures/thread.py\", line 37, in <module>\n",
      "    threading._register_atexit(_python_exit)\n",
      "  File \"/Users/xutingl/anaconda3/envs/vidur_env/lib/python3.10/threading.py\", line 1504, in _register_atexit\n",
      "    raise RuntimeError(\"can't register atexit after shutdown\")\n",
      "RuntimeError: can't register atexit after shutdown\n"
     ]
    },
    {
     "name": "stdout",
     "output_type": "stream",
     "text": [
      "INFO 10-23 11:52:07 simulator.py:94] Metrics written\n",
      "INFO 10-23 11:52:12 simulator.py:102] Chrome event trace written\n",
      "INFO 10-23 11:52:22 trace_request_length_generator.py:78] Loaded request length trace file ./data/processed_traces/arxiv_summarization_stats_llama2_tokenizer_filtered_v2.csv with 28257 requests\n",
      "----------\n",
      "Execution Time Predictor initialized with Early-Exit type=EarlyExitType.EE\n",
      "----------\n",
      "INFO 10-23 11:52:24 simulator.py:61] Starting simulation with cluster: Cluster({'id': 0, 'num_replicas': 1}) and 2048 requests\n"
     ]
    },
    {
     "name": "stderr",
     "output_type": "stream",
     "text": [
      "/Users/xutingl/upenn/projects/vidur/vidur/utils/mfu_calculator.py:45: RuntimeWarning: divide by zero encountered in scalar divide\n",
      "  total_flops_per_second = total_flops / batch_stage.execution_time\n",
      "/Users/xutingl/upenn/projects/vidur/vidur/metrics/series_average_meter.py:44: RuntimeWarning: invalid value encountered in scalar multiply\n",
      "  self._numer_sum += self._last_data_y * x_diff\n"
     ]
    },
    {
     "name": "stdout",
     "output_type": "stream",
     "text": [
      "-----Queue length-----\n",
      "{0: 0.9527474877057943, 1: 0.2488163963468646, 2: 0.23837013958886955, 3: 0.2526039280368979, 4: 0.2657991997312074, 5: 0.28174348636183144, 6: 0.31430404105195636, 7: 0.2080698860686032}\n",
      "INFO 10-23 11:52:38 simulator.py:88] Simulation ended at: 233.13236881007342s\n",
      "INFO 10-23 11:52:38 simulator.py:91] Writing output\n"
     ]
    },
    {
     "name": "stderr",
     "output_type": "stream",
     "text": [
      "Error importing optional module IPython.core.display\n",
      "Traceback (most recent call last):\n",
      "  File \"/Users/xutingl/anaconda3/envs/vidur_env/lib/python3.10/site-packages/_plotly_utils/optional_imports.py\", line 28, in get_module\n",
      "    return import_module(name)\n",
      "  File \"/Users/xutingl/anaconda3/envs/vidur_env/lib/python3.10/importlib/__init__.py\", line 126, in import_module\n",
      "    return _bootstrap._gcd_import(name[level:], package, level)\n",
      "  File \"<frozen importlib._bootstrap>\", line 1050, in _gcd_import\n",
      "  File \"<frozen importlib._bootstrap>\", line 1027, in _find_and_load\n",
      "  File \"<frozen importlib._bootstrap>\", line 992, in _find_and_load_unlocked\n",
      "  File \"<frozen importlib._bootstrap>\", line 241, in _call_with_frames_removed\n",
      "  File \"<frozen importlib._bootstrap>\", line 1050, in _gcd_import\n",
      "  File \"<frozen importlib._bootstrap>\", line 1027, in _find_and_load\n",
      "  File \"<frozen importlib._bootstrap>\", line 992, in _find_and_load_unlocked\n",
      "  File \"<frozen importlib._bootstrap>\", line 241, in _call_with_frames_removed\n",
      "  File \"<frozen importlib._bootstrap>\", line 1050, in _gcd_import\n",
      "  File \"<frozen importlib._bootstrap>\", line 1027, in _find_and_load\n",
      "  File \"<frozen importlib._bootstrap>\", line 1006, in _find_and_load_unlocked\n",
      "  File \"<frozen importlib._bootstrap>\", line 688, in _load_unlocked\n",
      "  File \"<frozen importlib._bootstrap_external>\", line 883, in exec_module\n",
      "  File \"<frozen importlib._bootstrap>\", line 241, in _call_with_frames_removed\n",
      "  File \"/Users/xutingl/anaconda3/envs/vidur_env/lib/python3.10/site-packages/IPython/__init__.py\", line 55, in <module>\n",
      "    from .terminal.embed import embed\n",
      "  File \"/Users/xutingl/anaconda3/envs/vidur_env/lib/python3.10/site-packages/IPython/terminal/embed.py\", line 16, in <module>\n",
      "    from IPython.terminal.interactiveshell import TerminalInteractiveShell\n",
      "  File \"/Users/xutingl/anaconda3/envs/vidur_env/lib/python3.10/site-packages/IPython/terminal/interactiveshell.py\", line 48, in <module>\n",
      "    from .debugger import TerminalPdb, Pdb\n",
      "  File \"/Users/xutingl/anaconda3/envs/vidur_env/lib/python3.10/site-packages/IPython/terminal/debugger.py\", line 18, in <module>\n",
      "    from concurrent.futures import ThreadPoolExecutor\n",
      "  File \"<frozen importlib._bootstrap>\", line 1075, in _handle_fromlist\n",
      "  File \"/Users/xutingl/anaconda3/envs/vidur_env/lib/python3.10/concurrent/futures/__init__.py\", line 49, in __getattr__\n",
      "    from .thread import ThreadPoolExecutor as te\n",
      "  File \"/Users/xutingl/anaconda3/envs/vidur_env/lib/python3.10/concurrent/futures/thread.py\", line 37, in <module>\n",
      "    threading._register_atexit(_python_exit)\n",
      "  File \"/Users/xutingl/anaconda3/envs/vidur_env/lib/python3.10/threading.py\", line 1504, in _register_atexit\n",
      "    raise RuntimeError(\"can't register atexit after shutdown\")\n",
      "RuntimeError: can't register atexit after shutdown\n"
     ]
    },
    {
     "name": "stdout",
     "output_type": "stream",
     "text": [
      "INFO 10-23 11:52:49 simulator.py:94] Metrics written\n",
      "INFO 10-23 11:52:54 simulator.py:102] Chrome event trace written\n",
      "INFO 10-23 11:52:56 trace_request_length_generator.py:78] Loaded request length trace file ./data/processed_traces/arxiv_summarization_stats_llama2_tokenizer_filtered_v2.csv with 28257 requests\n",
      "----------\n",
      "Execution Time Predictor initialized with Early-Exit type=EarlyExitType.EE\n",
      "----------\n",
      "INFO 10-23 11:52:57 simulator.py:61] Starting simulation with cluster: Cluster({'id': 0, 'num_replicas': 1}) and 2048 requests\n"
     ]
    },
    {
     "name": "stderr",
     "output_type": "stream",
     "text": [
      "/Users/xutingl/upenn/projects/vidur/vidur/utils/mfu_calculator.py:45: RuntimeWarning: divide by zero encountered in scalar divide\n",
      "  total_flops_per_second = total_flops / batch_stage.execution_time\n",
      "/Users/xutingl/upenn/projects/vidur/vidur/metrics/series_average_meter.py:44: RuntimeWarning: invalid value encountered in scalar multiply\n",
      "  self._numer_sum += self._last_data_y * x_diff\n"
     ]
    },
    {
     "name": "stdout",
     "output_type": "stream",
     "text": [
      "-----Queue length-----\n",
      "{0: 0.7386723342678846, 1: 0.35506918694039974, 2: 0.36972053902505203, 3: 0.39196888848693134, 4: 0.41390069639142624, 5: 0.45758343131048207, 6: 0.5236953965813512, 7: 0.3867685629013295}\n",
      "INFO 10-23 11:53:09 simulator.py:88] Simulation ended at: 247.3667589906704s\n",
      "INFO 10-23 11:53:09 simulator.py:91] Writing output\n"
     ]
    },
    {
     "name": "stderr",
     "output_type": "stream",
     "text": [
      "Error importing optional module IPython.core.display\n",
      "Traceback (most recent call last):\n",
      "  File \"/Users/xutingl/anaconda3/envs/vidur_env/lib/python3.10/site-packages/_plotly_utils/optional_imports.py\", line 28, in get_module\n",
      "    return import_module(name)\n",
      "  File \"/Users/xutingl/anaconda3/envs/vidur_env/lib/python3.10/importlib/__init__.py\", line 126, in import_module\n",
      "    return _bootstrap._gcd_import(name[level:], package, level)\n",
      "  File \"<frozen importlib._bootstrap>\", line 1050, in _gcd_import\n",
      "  File \"<frozen importlib._bootstrap>\", line 1027, in _find_and_load\n",
      "  File \"<frozen importlib._bootstrap>\", line 992, in _find_and_load_unlocked\n",
      "  File \"<frozen importlib._bootstrap>\", line 241, in _call_with_frames_removed\n",
      "  File \"<frozen importlib._bootstrap>\", line 1050, in _gcd_import\n",
      "  File \"<frozen importlib._bootstrap>\", line 1027, in _find_and_load\n",
      "  File \"<frozen importlib._bootstrap>\", line 992, in _find_and_load_unlocked\n",
      "  File \"<frozen importlib._bootstrap>\", line 241, in _call_with_frames_removed\n",
      "  File \"<frozen importlib._bootstrap>\", line 1050, in _gcd_import\n",
      "  File \"<frozen importlib._bootstrap>\", line 1027, in _find_and_load\n",
      "  File \"<frozen importlib._bootstrap>\", line 1006, in _find_and_load_unlocked\n",
      "  File \"<frozen importlib._bootstrap>\", line 688, in _load_unlocked\n",
      "  File \"<frozen importlib._bootstrap_external>\", line 883, in exec_module\n",
      "  File \"<frozen importlib._bootstrap>\", line 241, in _call_with_frames_removed\n",
      "  File \"/Users/xutingl/anaconda3/envs/vidur_env/lib/python3.10/site-packages/IPython/__init__.py\", line 55, in <module>\n",
      "    from .terminal.embed import embed\n",
      "  File \"/Users/xutingl/anaconda3/envs/vidur_env/lib/python3.10/site-packages/IPython/terminal/embed.py\", line 16, in <module>\n",
      "    from IPython.terminal.interactiveshell import TerminalInteractiveShell\n",
      "  File \"/Users/xutingl/anaconda3/envs/vidur_env/lib/python3.10/site-packages/IPython/terminal/interactiveshell.py\", line 48, in <module>\n",
      "    from .debugger import TerminalPdb, Pdb\n",
      "  File \"/Users/xutingl/anaconda3/envs/vidur_env/lib/python3.10/site-packages/IPython/terminal/debugger.py\", line 18, in <module>\n",
      "    from concurrent.futures import ThreadPoolExecutor\n",
      "  File \"<frozen importlib._bootstrap>\", line 1075, in _handle_fromlist\n",
      "  File \"/Users/xutingl/anaconda3/envs/vidur_env/lib/python3.10/concurrent/futures/__init__.py\", line 49, in __getattr__\n",
      "    from .thread import ThreadPoolExecutor as te\n",
      "  File \"/Users/xutingl/anaconda3/envs/vidur_env/lib/python3.10/concurrent/futures/thread.py\", line 37, in <module>\n",
      "    threading._register_atexit(_python_exit)\n",
      "  File \"/Users/xutingl/anaconda3/envs/vidur_env/lib/python3.10/threading.py\", line 1504, in _register_atexit\n",
      "    raise RuntimeError(\"can't register atexit after shutdown\")\n",
      "RuntimeError: can't register atexit after shutdown\n"
     ]
    },
    {
     "name": "stdout",
     "output_type": "stream",
     "text": [
      "INFO 10-23 11:53:16 simulator.py:94] Metrics written\n",
      "INFO 10-23 11:53:20 simulator.py:102] Chrome event trace written\n"
     ]
    }
   ],
   "source": [
    "BATCH_SIZES = [64, 128, 256, 512, 1024]\n",
    "for batch_size in BATCH_SIZES:\n",
    "    name = f\"ee_batch{batch_size}\"\n",
    "    run_vidur({\n",
    "        \"name\": name,\n",
    "        \"vllm_scheduler_config_batch_size_cap\": batch_size,\n",
    "    })\n"
   ]
  },
  {
   "cell_type": "code",
   "execution_count": 22,
   "metadata": {},
   "outputs": [
    {
     "name": "stdout",
     "output_type": "stream",
     "text": [
      "batch size = 64\n",
      "E2E / Exec\n",
      "{'mean': 73.89105626012383, '95th': 59.24477736663204, '99th': 14.037986886170522}\n",
      "Queue Length\n",
      "{'0': 1.32434209780378, '1': 0.4435298252775038, '2': 0.4034604351621937, '3': 0.40178237355012075, '4': 0.40258738959375034, '5': 0.40317697880880304, '6': 0.4116466546481173, '7': 0.3213941517285168}\n",
      "\n",
      "batch size = 128\n",
      "E2E / Exec\n",
      "{'mean': 47.030220006386415, '95th': 36.301619040961384, '99th': 9.3922261560815}\n",
      "Queue Length\n",
      "{'0': 1.3596411907259378, '1': 0.477248887763591, '2': 0.447571165045032, '3': 0.4482584005497884, '4': 0.4642094983180815, '5': 0.48048612869389085, '6': 0.49486381885918906, '7': 0.3815965565884183}\n",
      "\n",
      "batch size = 256\n",
      "E2E / Exec\n",
      "{'mean': 27.2069468831687, '95th': 18.30399983175588, '99th': 6.478501609392427}\n",
      "Queue Length\n",
      "{'0': 1.2584892404569228, '1': 0.4026176784366787, '2': 0.38060419973458925, '3': 0.40017173635866876, '4': 0.42231531836278, '5': 0.4502094663162551, '6': 0.47599594077697693, '7': 0.32067861882334575}\n",
      "\n",
      "batch size = 512\n",
      "E2E / Exec\n",
      "{'mean': 15.310645971075349, '95th': 8.938072687195111, '99th': 4.4837635618453895}\n",
      "Queue Length\n",
      "{'0': 0.9527474877057943, '1': 0.2488163963468646, '2': 0.23837013958886955, '3': 0.2526039280368979, '4': 0.2657991997312074, '5': 0.28174348636183144, '6': 0.31430404105195636, '7': 0.2080698860686032}\n",
      "\n",
      "batch size = 1024\n",
      "E2E / Exec\n",
      "{'mean': 10.127185088217534, '95th': 6.110312976375783, '99th': 3.2277778218216007}\n",
      "Queue Length\n",
      "{'0': 0.7386723342678846, '1': 0.35506918694039974, '2': 0.36972053902505203, '3': 0.39196888848693134, '4': 0.41390069639142624, '5': 0.45758343131048207, '6': 0.5236953965813512, '7': 0.3867685629013295}\n",
      "\n"
     ]
    }
   ],
   "source": [
    "for batch_size in BATCH_SIZES:\n",
    "    trace = f\"ee_batch{batch_size}\"\n",
    "    print(f\"batch size = {batch_size}\")\n",
    "    print(\"E2E / Exec\")\n",
    "    print(get_e2e_over_exec(trace))\n",
    "    print(\"Queue Length\")\n",
    "    print(get_queue_length(trace))\n",
    "    print()"
   ]
  },
  {
   "cell_type": "markdown",
   "metadata": {},
   "source": [
    "**No EE (batch size = 256)**\n",
    "\n",
    "E2E / Exec\n",
    "\n",
    "{'mean': 22.341935400591645, '95th': 14.987146524971076, '99th': 5.273660358307038}\n",
    "\n",
    "Queue Length\n",
    "\n",
    "{'0': 0.40735343863027246, '1': 0.31297650334365484, '2': 0.3305144284561942, '3': 0.3488850147016731, '4': 0.36899898519424423, '5': 0.397231401732976, '6': 0.4397751814941063, '7': 0.43327001639301604}"
   ]
  },
  {
   "cell_type": "code",
   "execution_count": 23,
   "metadata": {},
   "outputs": [
    {
     "name": "stdout",
     "output_type": "stream",
     "text": [
      "INFO 10-23 11:56:08 trace_request_length_generator.py:78] Loaded request length trace file ./data/processed_traces/arxiv_summarization_stats_llama2_tokenizer_filtered_v2.csv with 28257 requests\n",
      "----------\n",
      "Execution Time Predictor initialized with Early-Exit type=EarlyExitType.NO_EE\n",
      "----------\n",
      "INFO 10-23 11:56:09 simulator.py:61] Starting simulation with cluster: Cluster({'id': 0, 'num_replicas': 1}) and 2048 requests\n",
      "-----Queue length-----\n",
      "{0: 0.40735343863027246, 1: 0.31297650334365484, 2: 0.3305144284561942, 3: 0.3488850147016731, 4: 0.36899898519424423, 5: 0.397231401732976, 6: 0.4397751814941063, 7: 0.43327001639301604}\n",
      "INFO 10-23 11:56:24 simulator.py:88] Simulation ended at: 409.49599237395756s\n",
      "INFO 10-23 11:56:24 simulator.py:91] Writing output\n"
     ]
    },
    {
     "name": "stderr",
     "output_type": "stream",
     "text": [
      "Error importing optional module IPython.core.display\n",
      "Traceback (most recent call last):\n",
      "  File \"/Users/xutingl/anaconda3/envs/vidur_env/lib/python3.10/site-packages/_plotly_utils/optional_imports.py\", line 28, in get_module\n",
      "    return import_module(name)\n",
      "  File \"/Users/xutingl/anaconda3/envs/vidur_env/lib/python3.10/importlib/__init__.py\", line 126, in import_module\n",
      "    return _bootstrap._gcd_import(name[level:], package, level)\n",
      "  File \"<frozen importlib._bootstrap>\", line 1050, in _gcd_import\n",
      "  File \"<frozen importlib._bootstrap>\", line 1027, in _find_and_load\n",
      "  File \"<frozen importlib._bootstrap>\", line 992, in _find_and_load_unlocked\n",
      "  File \"<frozen importlib._bootstrap>\", line 241, in _call_with_frames_removed\n",
      "  File \"<frozen importlib._bootstrap>\", line 1050, in _gcd_import\n",
      "  File \"<frozen importlib._bootstrap>\", line 1027, in _find_and_load\n",
      "  File \"<frozen importlib._bootstrap>\", line 992, in _find_and_load_unlocked\n",
      "  File \"<frozen importlib._bootstrap>\", line 241, in _call_with_frames_removed\n",
      "  File \"<frozen importlib._bootstrap>\", line 1050, in _gcd_import\n",
      "  File \"<frozen importlib._bootstrap>\", line 1027, in _find_and_load\n",
      "  File \"<frozen importlib._bootstrap>\", line 1006, in _find_and_load_unlocked\n",
      "  File \"<frozen importlib._bootstrap>\", line 688, in _load_unlocked\n",
      "  File \"<frozen importlib._bootstrap_external>\", line 883, in exec_module\n",
      "  File \"<frozen importlib._bootstrap>\", line 241, in _call_with_frames_removed\n",
      "  File \"/Users/xutingl/anaconda3/envs/vidur_env/lib/python3.10/site-packages/IPython/__init__.py\", line 55, in <module>\n",
      "    from .terminal.embed import embed\n",
      "  File \"/Users/xutingl/anaconda3/envs/vidur_env/lib/python3.10/site-packages/IPython/terminal/embed.py\", line 16, in <module>\n",
      "    from IPython.terminal.interactiveshell import TerminalInteractiveShell\n",
      "  File \"/Users/xutingl/anaconda3/envs/vidur_env/lib/python3.10/site-packages/IPython/terminal/interactiveshell.py\", line 48, in <module>\n",
      "    from .debugger import TerminalPdb, Pdb\n",
      "  File \"/Users/xutingl/anaconda3/envs/vidur_env/lib/python3.10/site-packages/IPython/terminal/debugger.py\", line 18, in <module>\n",
      "    from concurrent.futures import ThreadPoolExecutor\n",
      "  File \"<frozen importlib._bootstrap>\", line 1075, in _handle_fromlist\n",
      "  File \"/Users/xutingl/anaconda3/envs/vidur_env/lib/python3.10/concurrent/futures/__init__.py\", line 49, in __getattr__\n",
      "    from .thread import ThreadPoolExecutor as te\n",
      "  File \"/Users/xutingl/anaconda3/envs/vidur_env/lib/python3.10/concurrent/futures/thread.py\", line 37, in <module>\n",
      "    threading._register_atexit(_python_exit)\n",
      "  File \"/Users/xutingl/anaconda3/envs/vidur_env/lib/python3.10/threading.py\", line 1504, in _register_atexit\n",
      "    raise RuntimeError(\"can't register atexit after shutdown\")\n",
      "RuntimeError: can't register atexit after shutdown\n"
     ]
    },
    {
     "name": "stdout",
     "output_type": "stream",
     "text": [
      "INFO 10-23 11:56:32 simulator.py:94] Metrics written\n",
      "INFO 10-23 11:56:37 simulator.py:102] Chrome event trace written\n",
      "Default (No EE)\n",
      "E2E / Exec\n",
      "{'mean': 22.341935400591645, '95th': 14.987146524971076, '99th': 5.273660358307038}\n",
      "Queue Length\n",
      "{'0': 0.40735343863027246, '1': 0.31297650334365484, '2': 0.3305144284561942, '3': 0.3488850147016731, '4': 0.36899898519424423, '5': 0.397231401732976, '6': 0.4397751814941063, '7': 0.43327001639301604}\n"
     ]
    }
   ],
   "source": [
    "run_vidur({\n",
    "        \"name\": \"default\",\n",
    "        \"early_exit_type\": 0\n",
    "    })\n",
    "print(\"Default (No EE)\")\n",
    "print(\"E2E / Exec\")\n",
    "print(get_e2e_over_exec(\"default\"))\n",
    "print(\"Queue Length\")\n",
    "print(get_queue_length(\"default\"))\n"
   ]
  },
  {
   "cell_type": "code",
   "execution_count": null,
   "metadata": {},
   "outputs": [],
   "source": []
  },
  {
   "cell_type": "markdown",
   "metadata": {},
   "source": [
    "## Output token times experiments"
   ]
  },
  {
   "cell_type": "code",
   "execution_count": 9,
   "metadata": {},
   "outputs": [
    {
     "name": "stdout",
     "output_type": "stream",
     "text": [
      "INFO 10-30 11:22:02 trace_request_length_generator.py:78] Loaded request length trace file ./data/processed_traces/arxiv_summarization_stats_llama2_tokenizer_filtered_v2.csv with 28257 requests\n",
      "----------\n",
      "Execution Time Predictor initialized with Early-Exit type=EarlyExitType.EE\n",
      "----------\n",
      "INFO 10-30 11:22:03 simulator.py:62] Starting simulation with cluster: Cluster({'id': 0, 'num_replicas': 1}) and 2048 requests\n",
      "Time to tokens file created: simulator_output/EE_NoPriority/time_to_tokens.csv\n"
     ]
    },
    {
     "name": "stderr",
     "output_type": "stream",
     "text": [
      "/Users/xutingl/upenn/projects/vidur/vidur/utils/mfu_calculator.py:45: RuntimeWarning: divide by zero encountered in scalar divide\n",
      "  total_flops_per_second = total_flops / batch_stage.execution_time\n",
      "/Users/xutingl/upenn/projects/vidur/vidur/metrics/series_average_meter.py:44: RuntimeWarning: invalid value encountered in scalar multiply\n",
      "  self._numer_sum += self._last_data_y * x_diff\n"
     ]
    },
    {
     "name": "stdout",
     "output_type": "stream",
     "text": [
      "-----Queue length-----\n",
      "{0: 1.2584892404569228, 1: 0.4026176784366787, 2: 0.38060419973458925, 3: 0.40017173635866876, 4: 0.42231531836278, 5: 0.4502094663162551, 6: 0.47599594077697693, 7: 0.32067861882334575}\n",
      "INFO 10-30 11:22:25 simulator.py:97] Simulation ended at: 299.6331056283327s\n",
      "INFO 10-30 11:22:25 simulator.py:100] Writing output\n"
     ]
    },
    {
     "name": "stderr",
     "output_type": "stream",
     "text": [
      "Error importing optional module IPython.core.display\n",
      "Traceback (most recent call last):\n",
      "  File \"/Users/xutingl/anaconda3/envs/vidur_env/lib/python3.10/site-packages/_plotly_utils/optional_imports.py\", line 28, in get_module\n",
      "    return import_module(name)\n",
      "  File \"/Users/xutingl/anaconda3/envs/vidur_env/lib/python3.10/importlib/__init__.py\", line 126, in import_module\n",
      "    return _bootstrap._gcd_import(name[level:], package, level)\n",
      "  File \"<frozen importlib._bootstrap>\", line 1050, in _gcd_import\n",
      "  File \"<frozen importlib._bootstrap>\", line 1027, in _find_and_load\n",
      "  File \"<frozen importlib._bootstrap>\", line 992, in _find_and_load_unlocked\n",
      "  File \"<frozen importlib._bootstrap>\", line 241, in _call_with_frames_removed\n",
      "  File \"<frozen importlib._bootstrap>\", line 1050, in _gcd_import\n",
      "  File \"<frozen importlib._bootstrap>\", line 1027, in _find_and_load\n",
      "  File \"<frozen importlib._bootstrap>\", line 992, in _find_and_load_unlocked\n",
      "  File \"<frozen importlib._bootstrap>\", line 241, in _call_with_frames_removed\n",
      "  File \"<frozen importlib._bootstrap>\", line 1050, in _gcd_import\n",
      "  File \"<frozen importlib._bootstrap>\", line 1027, in _find_and_load\n",
      "  File \"<frozen importlib._bootstrap>\", line 1006, in _find_and_load_unlocked\n",
      "  File \"<frozen importlib._bootstrap>\", line 688, in _load_unlocked\n",
      "  File \"<frozen importlib._bootstrap_external>\", line 883, in exec_module\n",
      "  File \"<frozen importlib._bootstrap>\", line 241, in _call_with_frames_removed\n",
      "  File \"/Users/xutingl/anaconda3/envs/vidur_env/lib/python3.10/site-packages/IPython/__init__.py\", line 55, in <module>\n",
      "    from .terminal.embed import embed\n",
      "  File \"/Users/xutingl/anaconda3/envs/vidur_env/lib/python3.10/site-packages/IPython/terminal/embed.py\", line 16, in <module>\n",
      "    from IPython.terminal.interactiveshell import TerminalInteractiveShell\n",
      "  File \"/Users/xutingl/anaconda3/envs/vidur_env/lib/python3.10/site-packages/IPython/terminal/interactiveshell.py\", line 48, in <module>\n",
      "    from .debugger import TerminalPdb, Pdb\n",
      "  File \"/Users/xutingl/anaconda3/envs/vidur_env/lib/python3.10/site-packages/IPython/terminal/debugger.py\", line 18, in <module>\n",
      "    from concurrent.futures import ThreadPoolExecutor\n",
      "  File \"<frozen importlib._bootstrap>\", line 1075, in _handle_fromlist\n",
      "  File \"/Users/xutingl/anaconda3/envs/vidur_env/lib/python3.10/concurrent/futures/__init__.py\", line 49, in __getattr__\n",
      "    from .thread import ThreadPoolExecutor as te\n",
      "  File \"/Users/xutingl/anaconda3/envs/vidur_env/lib/python3.10/concurrent/futures/thread.py\", line 37, in <module>\n",
      "    threading._register_atexit(_python_exit)\n",
      "  File \"/Users/xutingl/anaconda3/envs/vidur_env/lib/python3.10/threading.py\", line 1504, in _register_atexit\n",
      "    raise RuntimeError(\"can't register atexit after shutdown\")\n",
      "RuntimeError: can't register atexit after shutdown\n"
     ]
    },
    {
     "name": "stdout",
     "output_type": "stream",
     "text": [
      "INFO 10-30 11:22:36 simulator.py:103] Metrics written\n",
      "INFO 10-30 11:22:41 simulator.py:111] Chrome event trace written\n",
      "INFO 10-30 11:22:43 trace_request_length_generator.py:78] Loaded request length trace file ./data/processed_traces/arxiv_summarization_stats_llama2_tokenizer_filtered_v2.csv with 28257 requests\n",
      "----------\n",
      "Execution Time Predictor initialized with Early-Exit type=EarlyExitType.NO_EE\n",
      "----------\n",
      "INFO 10-30 11:22:44 simulator.py:62] Starting simulation with cluster: Cluster({'id': 0, 'num_replicas': 1}) and 2048 requests\n",
      "Time to tokens file created: simulator_output/NoEE_NoPriority/time_to_tokens.csv\n",
      "-----Queue length-----\n",
      "{0: 0.40735343863027246, 1: 0.31297650334365484, 2: 0.3305144284561942, 3: 0.3488850147016731, 4: 0.36899898519424423, 5: 0.397231401732976, 6: 0.4397751814941063, 7: 0.43327001639301604}\n",
      "INFO 10-30 11:23:08 simulator.py:97] Simulation ended at: 409.49599237395756s\n",
      "INFO 10-30 11:23:08 simulator.py:100] Writing output\n"
     ]
    },
    {
     "name": "stderr",
     "output_type": "stream",
     "text": [
      "Error importing optional module IPython.core.display\n",
      "Traceback (most recent call last):\n",
      "  File \"/Users/xutingl/anaconda3/envs/vidur_env/lib/python3.10/site-packages/_plotly_utils/optional_imports.py\", line 28, in get_module\n",
      "    return import_module(name)\n",
      "  File \"/Users/xutingl/anaconda3/envs/vidur_env/lib/python3.10/importlib/__init__.py\", line 126, in import_module\n",
      "    return _bootstrap._gcd_import(name[level:], package, level)\n",
      "  File \"<frozen importlib._bootstrap>\", line 1050, in _gcd_import\n",
      "  File \"<frozen importlib._bootstrap>\", line 1027, in _find_and_load\n",
      "  File \"<frozen importlib._bootstrap>\", line 992, in _find_and_load_unlocked\n",
      "  File \"<frozen importlib._bootstrap>\", line 241, in _call_with_frames_removed\n",
      "  File \"<frozen importlib._bootstrap>\", line 1050, in _gcd_import\n",
      "  File \"<frozen importlib._bootstrap>\", line 1027, in _find_and_load\n",
      "  File \"<frozen importlib._bootstrap>\", line 992, in _find_and_load_unlocked\n",
      "  File \"<frozen importlib._bootstrap>\", line 241, in _call_with_frames_removed\n",
      "  File \"<frozen importlib._bootstrap>\", line 1050, in _gcd_import\n",
      "  File \"<frozen importlib._bootstrap>\", line 1027, in _find_and_load\n",
      "  File \"<frozen importlib._bootstrap>\", line 1006, in _find_and_load_unlocked\n",
      "  File \"<frozen importlib._bootstrap>\", line 688, in _load_unlocked\n",
      "  File \"<frozen importlib._bootstrap_external>\", line 883, in exec_module\n",
      "  File \"<frozen importlib._bootstrap>\", line 241, in _call_with_frames_removed\n",
      "  File \"/Users/xutingl/anaconda3/envs/vidur_env/lib/python3.10/site-packages/IPython/__init__.py\", line 55, in <module>\n",
      "    from .terminal.embed import embed\n",
      "  File \"/Users/xutingl/anaconda3/envs/vidur_env/lib/python3.10/site-packages/IPython/terminal/embed.py\", line 16, in <module>\n",
      "    from IPython.terminal.interactiveshell import TerminalInteractiveShell\n",
      "  File \"/Users/xutingl/anaconda3/envs/vidur_env/lib/python3.10/site-packages/IPython/terminal/interactiveshell.py\", line 48, in <module>\n",
      "    from .debugger import TerminalPdb, Pdb\n",
      "  File \"/Users/xutingl/anaconda3/envs/vidur_env/lib/python3.10/site-packages/IPython/terminal/debugger.py\", line 18, in <module>\n",
      "    from concurrent.futures import ThreadPoolExecutor\n",
      "  File \"<frozen importlib._bootstrap>\", line 1075, in _handle_fromlist\n",
      "  File \"/Users/xutingl/anaconda3/envs/vidur_env/lib/python3.10/concurrent/futures/__init__.py\", line 49, in __getattr__\n",
      "    from .thread import ThreadPoolExecutor as te\n",
      "  File \"/Users/xutingl/anaconda3/envs/vidur_env/lib/python3.10/concurrent/futures/thread.py\", line 37, in <module>\n",
      "    threading._register_atexit(_python_exit)\n",
      "  File \"/Users/xutingl/anaconda3/envs/vidur_env/lib/python3.10/threading.py\", line 1504, in _register_atexit\n",
      "    raise RuntimeError(\"can't register atexit after shutdown\")\n",
      "RuntimeError: can't register atexit after shutdown\n"
     ]
    },
    {
     "name": "stdout",
     "output_type": "stream",
     "text": [
      "INFO 10-30 11:23:15 simulator.py:103] Metrics written\n",
      "INFO 10-30 11:23:21 simulator.py:111] Chrome event trace written\n"
     ]
    }
   ],
   "source": [
    "run_vidur({\n",
    "        \"name\": \"EE_NoPriority\",\n",
    "        \"early_exit_type\": 1\n",
    "    })\n",
    "run_vidur({\n",
    "        \"name\": \"NoEE_NoPriority\",\n",
    "        \"early_exit_type\": 0\n",
    "    })"
   ]
  },
  {
   "cell_type": "code",
   "execution_count": 33,
   "metadata": {},
   "outputs": [
    {
     "name": "stdout",
     "output_type": "stream",
     "text": [
      "INFO 11-11 15:55:20 trace_request_length_generator.py:78] Loaded request length trace file ./data/processed_traces/arxiv_summarization_stats_llama2_tokenizer_filtered_v2.csv with 28257 requests\n",
      "----------\n",
      "Execution Time Predictor initialized with Early-Exit type=EarlyExitType.EE\n",
      "----------\n",
      "INFO 11-11 15:55:21 simulator.py:62] Starting simulation with cluster: Cluster({'id': 0, 'num_replicas': 1}) and 2048 requests\n",
      "Time to tokens file created: simulator_output/EE_Priority/time_to_tokens.csv\n"
     ]
    },
    {
     "name": "stderr",
     "output_type": "stream",
     "text": [
      "/Users/xutingl/upenn/projects/vidur/vidur/utils/mfu_calculator.py:45: RuntimeWarning: divide by zero encountered in scalar divide\n",
      "  total_flops_per_second = total_flops / batch_stage.execution_time\n",
      "/Users/xutingl/upenn/projects/vidur/vidur/metrics/series_average_meter.py:44: RuntimeWarning: invalid value encountered in scalar multiply\n",
      "  self._numer_sum += self._last_data_y * x_diff\n"
     ]
    },
    {
     "name": "stdout",
     "output_type": "stream",
     "text": [
      "-----Queue length-----\n",
      "{0: 1.2097030953885028, 1: 0.37253316487681615, 2: 0.36525584333543903, 3: 0.37379658875552746, 4: 0.4013139608338598, 5: 0.42142766898294376, 6: 0.4587492103600758, 7: 0.31681617182564753}\n",
      "INFO 11-11 15:55:47 simulator.py:97] Simulation ended at: 296.24695084102177s\n",
      "INFO 11-11 15:55:47 simulator.py:100] Writing output\n"
     ]
    },
    {
     "name": "stderr",
     "output_type": "stream",
     "text": [
      "Error importing optional module IPython.core.display\n",
      "Traceback (most recent call last):\n",
      "  File \"/Users/xutingl/anaconda3/envs/vidur_env/lib/python3.10/site-packages/_plotly_utils/optional_imports.py\", line 28, in get_module\n",
      "    return import_module(name)\n",
      "  File \"/Users/xutingl/anaconda3/envs/vidur_env/lib/python3.10/importlib/__init__.py\", line 126, in import_module\n",
      "    return _bootstrap._gcd_import(name[level:], package, level)\n",
      "  File \"<frozen importlib._bootstrap>\", line 1050, in _gcd_import\n",
      "  File \"<frozen importlib._bootstrap>\", line 1027, in _find_and_load\n",
      "  File \"<frozen importlib._bootstrap>\", line 992, in _find_and_load_unlocked\n",
      "  File \"<frozen importlib._bootstrap>\", line 241, in _call_with_frames_removed\n",
      "  File \"<frozen importlib._bootstrap>\", line 1050, in _gcd_import\n",
      "  File \"<frozen importlib._bootstrap>\", line 1027, in _find_and_load\n",
      "  File \"<frozen importlib._bootstrap>\", line 992, in _find_and_load_unlocked\n",
      "  File \"<frozen importlib._bootstrap>\", line 241, in _call_with_frames_removed\n",
      "  File \"<frozen importlib._bootstrap>\", line 1050, in _gcd_import\n",
      "  File \"<frozen importlib._bootstrap>\", line 1027, in _find_and_load\n",
      "  File \"<frozen importlib._bootstrap>\", line 1006, in _find_and_load_unlocked\n",
      "  File \"<frozen importlib._bootstrap>\", line 688, in _load_unlocked\n",
      "  File \"<frozen importlib._bootstrap_external>\", line 883, in exec_module\n",
      "  File \"<frozen importlib._bootstrap>\", line 241, in _call_with_frames_removed\n",
      "  File \"/Users/xutingl/anaconda3/envs/vidur_env/lib/python3.10/site-packages/IPython/__init__.py\", line 55, in <module>\n",
      "    from .terminal.embed import embed\n",
      "  File \"/Users/xutingl/anaconda3/envs/vidur_env/lib/python3.10/site-packages/IPython/terminal/embed.py\", line 16, in <module>\n",
      "    from IPython.terminal.interactiveshell import TerminalInteractiveShell\n",
      "  File \"/Users/xutingl/anaconda3/envs/vidur_env/lib/python3.10/site-packages/IPython/terminal/interactiveshell.py\", line 48, in <module>\n",
      "    from .debugger import TerminalPdb, Pdb\n",
      "  File \"/Users/xutingl/anaconda3/envs/vidur_env/lib/python3.10/site-packages/IPython/terminal/debugger.py\", line 18, in <module>\n",
      "    from concurrent.futures import ThreadPoolExecutor\n",
      "  File \"<frozen importlib._bootstrap>\", line 1075, in _handle_fromlist\n",
      "  File \"/Users/xutingl/anaconda3/envs/vidur_env/lib/python3.10/concurrent/futures/__init__.py\", line 49, in __getattr__\n",
      "    from .thread import ThreadPoolExecutor as te\n",
      "  File \"/Users/xutingl/anaconda3/envs/vidur_env/lib/python3.10/concurrent/futures/thread.py\", line 37, in <module>\n",
      "    threading._register_atexit(_python_exit)\n",
      "  File \"/Users/xutingl/anaconda3/envs/vidur_env/lib/python3.10/threading.py\", line 1504, in _register_atexit\n",
      "    raise RuntimeError(\"can't register atexit after shutdown\")\n",
      "RuntimeError: can't register atexit after shutdown\n"
     ]
    },
    {
     "name": "stdout",
     "output_type": "stream",
     "text": [
      "INFO 11-11 15:55:55 simulator.py:103] Metrics written\n",
      "INFO 11-11 15:56:00 simulator.py:111] Chrome event trace written\n",
      "INFO 11-11 15:56:03 trace_request_length_generator.py:78] Loaded request length trace file ./data/processed_traces/arxiv_summarization_stats_llama2_tokenizer_filtered_v2.csv with 28257 requests\n",
      "----------\n",
      "Execution Time Predictor initialized with Early-Exit type=EarlyExitType.NO_EE\n",
      "----------\n",
      "INFO 11-11 15:56:04 simulator.py:62] Starting simulation with cluster: Cluster({'id': 0, 'num_replicas': 1}) and 2048 requests\n",
      "Time to tokens file created: simulator_output/NoEE_Priority/time_to_tokens.csv\n",
      "-----Queue length-----\n",
      "{0: 0.39220731960906635, 1: 0.3068205448118112, 2: 0.32454772301933876, 3: 0.343860469952173, 4: 0.3654086088583905, 5: 0.3891661468080682, 6: 0.42753171137450613, 7: 0.42698585984612186}\n",
      "INFO 11-11 15:56:30 simulator.py:97] Simulation ended at: 407.70418183050515s\n",
      "INFO 11-11 15:56:30 simulator.py:100] Writing output\n"
     ]
    },
    {
     "name": "stderr",
     "output_type": "stream",
     "text": [
      "Error importing optional module IPython.core.display\n",
      "Traceback (most recent call last):\n",
      "  File \"/Users/xutingl/anaconda3/envs/vidur_env/lib/python3.10/site-packages/_plotly_utils/optional_imports.py\", line 28, in get_module\n",
      "    return import_module(name)\n",
      "  File \"/Users/xutingl/anaconda3/envs/vidur_env/lib/python3.10/importlib/__init__.py\", line 126, in import_module\n",
      "    return _bootstrap._gcd_import(name[level:], package, level)\n",
      "  File \"<frozen importlib._bootstrap>\", line 1050, in _gcd_import\n",
      "  File \"<frozen importlib._bootstrap>\", line 1027, in _find_and_load\n",
      "  File \"<frozen importlib._bootstrap>\", line 992, in _find_and_load_unlocked\n",
      "  File \"<frozen importlib._bootstrap>\", line 241, in _call_with_frames_removed\n",
      "  File \"<frozen importlib._bootstrap>\", line 1050, in _gcd_import\n",
      "  File \"<frozen importlib._bootstrap>\", line 1027, in _find_and_load\n",
      "  File \"<frozen importlib._bootstrap>\", line 992, in _find_and_load_unlocked\n",
      "  File \"<frozen importlib._bootstrap>\", line 241, in _call_with_frames_removed\n",
      "  File \"<frozen importlib._bootstrap>\", line 1050, in _gcd_import\n",
      "  File \"<frozen importlib._bootstrap>\", line 1027, in _find_and_load\n",
      "  File \"<frozen importlib._bootstrap>\", line 1006, in _find_and_load_unlocked\n",
      "  File \"<frozen importlib._bootstrap>\", line 688, in _load_unlocked\n",
      "  File \"<frozen importlib._bootstrap_external>\", line 883, in exec_module\n",
      "  File \"<frozen importlib._bootstrap>\", line 241, in _call_with_frames_removed\n",
      "  File \"/Users/xutingl/anaconda3/envs/vidur_env/lib/python3.10/site-packages/IPython/__init__.py\", line 55, in <module>\n",
      "    from .terminal.embed import embed\n",
      "  File \"/Users/xutingl/anaconda3/envs/vidur_env/lib/python3.10/site-packages/IPython/terminal/embed.py\", line 16, in <module>\n",
      "    from IPython.terminal.interactiveshell import TerminalInteractiveShell\n",
      "  File \"/Users/xutingl/anaconda3/envs/vidur_env/lib/python3.10/site-packages/IPython/terminal/interactiveshell.py\", line 48, in <module>\n",
      "    from .debugger import TerminalPdb, Pdb\n",
      "  File \"/Users/xutingl/anaconda3/envs/vidur_env/lib/python3.10/site-packages/IPython/terminal/debugger.py\", line 18, in <module>\n",
      "    from concurrent.futures import ThreadPoolExecutor\n",
      "  File \"<frozen importlib._bootstrap>\", line 1075, in _handle_fromlist\n",
      "  File \"/Users/xutingl/anaconda3/envs/vidur_env/lib/python3.10/concurrent/futures/__init__.py\", line 49, in __getattr__\n",
      "    from .thread import ThreadPoolExecutor as te\n",
      "  File \"/Users/xutingl/anaconda3/envs/vidur_env/lib/python3.10/concurrent/futures/thread.py\", line 37, in <module>\n",
      "    threading._register_atexit(_python_exit)\n",
      "  File \"/Users/xutingl/anaconda3/envs/vidur_env/lib/python3.10/threading.py\", line 1504, in _register_atexit\n",
      "    raise RuntimeError(\"can't register atexit after shutdown\")\n",
      "RuntimeError: can't register atexit after shutdown\n"
     ]
    },
    {
     "name": "stdout",
     "output_type": "stream",
     "text": [
      "INFO 11-11 15:56:38 simulator.py:103] Metrics written\n",
      "INFO 11-11 15:56:43 simulator.py:111] Chrome event trace written\n"
     ]
    }
   ],
   "source": [
    "run_vidur({\n",
    "        \"name\": \"EE_Priority\",\n",
    "        \"early_exit_type\": 1,\n",
    "        \"enable_priority_queue\": True\n",
    "    })\n",
    "run_vidur({\n",
    "        \"name\": \"NoEE_Priority\",\n",
    "        \"early_exit_type\": 0,\n",
    "        \"enable_priority_queue\": True\n",
    "    })"
   ]
  },
  {
   "cell_type": "code",
   "execution_count": 22,
   "metadata": {},
   "outputs": [],
   "source": [
    "def analyze_request(trace_name: str):\n",
    "    request_dir = RESULT_DIR / trace_name\n",
    "    time_to_tokens_df = pd.read_csv(request_dir / \"time_to_tokens.csv\")\n",
    "    request_metrics_df = pd.read_csv(request_dir / \"request_metrics.csv\")\n",
    "    return {\n",
    "        \"TPOP\": time_to_tokens_df[\"TPOP\"].mean(),\n",
    "        \"token_times_90\": time_to_tokens_df[\"time_to_token_90_precentile\"].mean(),\n",
    "        \"token_times_95\": time_to_tokens_df[\"time_to_token_95_precentile\"].mean(),\n",
    "        \"token_times_99\": time_to_tokens_df[\"time_to_token_99_precentile\"].mean(),\n",
    "        \"request_e2e_time\": request_metrics_df[\"request_e2e_time\"].mean(),\n",
    "        \"request_e2e_time_normalized\": request_metrics_df[\"request_e2e_time_normalized\"].mean(),\n",
    "        \"request_num_prefill_tokens\": request_metrics_df[\"request_num_prefill_tokens\"].mean(),\n",
    "        \"request_num_decode_tokens\": request_metrics_df[\"request_num_decode_tokens\"].mean(),\n",
    "    }\n",
    "    "
   ]
  },
  {
   "cell_type": "code",
   "execution_count": 26,
   "metadata": {},
   "outputs": [
    {
     "data": {
      "text/html": [
       "<div>\n",
       "<style scoped>\n",
       "    .dataframe tbody tr th:only-of-type {\n",
       "        vertical-align: middle;\n",
       "    }\n",
       "\n",
       "    .dataframe tbody tr th {\n",
       "        vertical-align: top;\n",
       "    }\n",
       "\n",
       "    .dataframe thead th {\n",
       "        text-align: right;\n",
       "    }\n",
       "</style>\n",
       "<table border=\"1\" class=\"dataframe\">\n",
       "  <thead>\n",
       "    <tr style=\"text-align: right;\">\n",
       "      <th></th>\n",
       "      <th>trace_name</th>\n",
       "      <th>TPOP</th>\n",
       "      <th>token_times_90</th>\n",
       "      <th>token_times_95</th>\n",
       "      <th>token_times_99</th>\n",
       "      <th>request_e2e_time</th>\n",
       "    </tr>\n",
       "  </thead>\n",
       "  <tbody>\n",
       "    <tr>\n",
       "      <th>0</th>\n",
       "      <td>NoEE_NoPriority</td>\n",
       "      <td>0.191</td>\n",
       "      <td>0.407</td>\n",
       "      <td>0.445</td>\n",
       "      <td>0.559</td>\n",
       "      <td>200.944</td>\n",
       "    </tr>\n",
       "    <tr>\n",
       "      <th>1</th>\n",
       "      <td>EE_NoPriority</td>\n",
       "      <td>0.140</td>\n",
       "      <td>0.298</td>\n",
       "      <td>0.332</td>\n",
       "      <td>0.432</td>\n",
       "      <td>147.410</td>\n",
       "    </tr>\n",
       "    <tr>\n",
       "      <th>2</th>\n",
       "      <td>NoEE_Priority</td>\n",
       "      <td>0.189</td>\n",
       "      <td>0.406</td>\n",
       "      <td>0.446</td>\n",
       "      <td>0.574</td>\n",
       "      <td>198.799</td>\n",
       "    </tr>\n",
       "    <tr>\n",
       "      <th>3</th>\n",
       "      <td>EE_Priority</td>\n",
       "      <td>0.138</td>\n",
       "      <td>0.296</td>\n",
       "      <td>0.333</td>\n",
       "      <td>0.432</td>\n",
       "      <td>146.585</td>\n",
       "    </tr>\n",
       "  </tbody>\n",
       "</table>\n",
       "</div>"
      ],
      "text/plain": [
       "        trace_name   TPOP  token_times_90  token_times_95  token_times_99  \\\n",
       "0  NoEE_NoPriority  0.191           0.407           0.445           0.559   \n",
       "1    EE_NoPriority  0.140           0.298           0.332           0.432   \n",
       "2    NoEE_Priority  0.189           0.406           0.446           0.574   \n",
       "3      EE_Priority  0.138           0.296           0.333           0.432   \n",
       "\n",
       "   request_e2e_time  \n",
       "0           200.944  \n",
       "1           147.410  \n",
       "2           198.799  \n",
       "3           146.585  "
      ]
     },
     "execution_count": 26,
     "metadata": {},
     "output_type": "execute_result"
    }
   ],
   "source": [
    "trace_names = [\"NoEE_NoPriority\", \"EE_NoPriority\", \"NoEE_Priority\", \"EE_Priority\"]\n",
    "TPOPs = []\n",
    "token_times_90 = []\n",
    "token_times_95 = []\n",
    "token_times_99 = []\n",
    "request_e2e_time = []\n",
    "for trace_name in trace_names:\n",
    "    result = analyze_request(trace_name)\n",
    "    TPOPs.append(result[\"TPOP\"].round(3))\n",
    "    token_times_90.append(result[\"token_times_90\"].round(3))\n",
    "    token_times_95.append(result[\"token_times_95\"].round(3))\n",
    "    token_times_99.append(result[\"token_times_99\"].round(3))\n",
    "    request_e2e_time.append(result[\"request_e2e_time\"].round(3))\n",
    "\n",
    "df = pd.DataFrame({\n",
    "    \"trace_name\": trace_names,\n",
    "    \"TPOP\": TPOPs,\n",
    "    \"token_times_90\": token_times_90,\n",
    "    \"token_times_95\": token_times_95,\n",
    "    \"token_times_99\": token_times_99,\n",
    "    \"request_e2e_time\": request_e2e_time,\n",
    "})\n",
    "df"
   ]
  },
  {
   "cell_type": "code",
   "execution_count": 15,
   "metadata": {},
   "outputs": [
    {
     "name": "stdout",
     "output_type": "stream",
     "text": [
      "EE_NoPriority\n",
      "{'TPOP': 0.13979405298500291, 'token_times_90': 0.2976953406584648, 'token_times_95': 0.3324351733657154, 'token_times_99': 0.4321192981652931, 'request_e2e_time': 147.40964765446782, 'request_e2e_time_normalized': 0.9608448568341269, 'request_num_prefill_tokens': 2567.39599609375, 'request_num_decode_tokens': 289.83447265625}\n",
      "\n",
      "NoEE_NoPriority\n",
      "{'TPOP': 0.1909032555448989, 'token_times_90': 0.40732838053553655, 'token_times_95': 0.4445233739717671, 'token_times_99': 0.5588676652061576, 'request_e2e_time': 200.94381609418116, 'request_e2e_time_normalized': 1.3097251067321645, 'request_num_prefill_tokens': 2567.39599609375, 'request_num_decode_tokens': 289.83447265625}\n",
      "\n"
     ]
    }
   ],
   "source": [
    "trace_names = [\"EE_NoPriority\", \"NoEE_NoPriority\"]\n",
    "trace_reults = {}\n",
    "for trace_name in trace_names:\n",
    "    print(trace_name)\n",
    "    trace_reults[trace_name] = analyze_request(trace_name)\n",
    "    print(trace_reults[trace_name])\n",
    "    print()"
   ]
  },
  {
   "cell_type": "code",
   "execution_count": 16,
   "metadata": {},
   "outputs": [
    {
     "name": "stdout",
     "output_type": "stream",
     "text": [
      "Improvement for TPOP: 0.26772305382647343\n",
      "Improvement for token_times_90: 0.2691514883714493\n",
      "Improvement for token_times_95: 0.2521536710309653\n",
      "Improvement for token_times_99: 0.22679495510642758\n",
      "Improvement for request_e2e_time: 0.2664136149112556\n",
      "Improvement for request_e2e_time_normalized: 0.26637669851844925\n",
      "Improvement for request_num_prefill_tokens: 0.0\n",
      "Improvement for request_num_decode_tokens: 0.0\n"
     ]
    }
   ],
   "source": [
    "for metric, value in trace_reults[\"EE_NoPriority\"].items():\n",
    "    no_ee_value = trace_reults[\"NoEE_NoPriority\"][metric]\n",
    "    print(f\"Improvement for {metric}: {(no_ee_value - value) / no_ee_value}\")"
   ]
  },
  {
   "cell_type": "code",
   "execution_count": null,
   "metadata": {},
   "outputs": [],
   "source": []
  }
 ],
 "metadata": {
  "kernelspec": {
   "display_name": "vidur_env",
   "language": "python",
   "name": "python3"
  },
  "language_info": {
   "codemirror_mode": {
    "name": "ipython",
    "version": 3
   },
   "file_extension": ".py",
   "mimetype": "text/x-python",
   "name": "python",
   "nbconvert_exporter": "python",
   "pygments_lexer": "ipython3",
   "version": "3.10.15"
  }
 },
 "nbformat": 4,
 "nbformat_minor": 2
}
